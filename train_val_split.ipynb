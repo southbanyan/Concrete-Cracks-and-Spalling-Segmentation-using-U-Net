{
 "cells": [
  {
   "cell_type": "code",
   "execution_count": 7,
   "metadata": {},
   "outputs": [
    {
     "name": "stdout",
     "output_type": "stream",
     "text": [
      "train.txt done\n",
      "val.txt done\n"
     ]
    }
   ],
   "source": [
    "import os\n",
    "\n",
    "# Create the folder, which contain the txt document\n",
    "folder = os.getcwd() + '\\\\ImageSets\\\\Segmentation\\\\'\n",
    "\n",
    "if not os.path.exists(folder):\n",
    "    os.makedirs(folder)\n",
    "\n",
    "# Create the train and validation dataset\n",
    "percent = 0.8\n",
    "img_files = os.listdir(\"JPEGImages\")\n",
    "\n",
    "split = int(len(img_files) * percent)\n",
    "train_img_files, val_img_files = img_files[:split], img_files[split:]\n",
    "\n",
    "train_path = folder + 'train.txt'\n",
    "val_path = folder + 'val.txt'\n",
    "\n",
    "with open(train_path, \"w\") as f1:\n",
    "    for img_file in train_img_files:\n",
    "        f1.write(img_file.split(\".\")[0] + \"\\n\")\n",
    "print(\"train.txt done\")\n",
    "\n",
    "with open(val_path, \"w\") as f2:\n",
    "    for img_file in val_img_files:\n",
    "        f2.write(img_file.split(\".\")[0] + \"\\n\")\n",
    "print(\"val.txt done\")\n"
   ]
  }
 ],
 "metadata": {
  "kernelspec": {
   "display_name": "Python 3.9.7 ('base')",
   "language": "python",
   "name": "python3"
  },
  "language_info": {
   "codemirror_mode": {
    "name": "ipython",
    "version": 3
   },
   "file_extension": ".py",
   "mimetype": "text/x-python",
   "name": "python",
   "nbconvert_exporter": "python",
   "pygments_lexer": "ipython3",
   "version": "3.9.12"
  },
  "orig_nbformat": 4,
  "vscode": {
   "interpreter": {
    "hash": "627382bb6efe32b5a0112c0a95edfe06ea8366d13abd842a5e592f76c8160c6d"
   }
  }
 },
 "nbformat": 4,
 "nbformat_minor": 2
}
