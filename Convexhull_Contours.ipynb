{
 "cells": [
  {
   "cell_type": "code",
   "execution_count": null,
   "metadata": {},
   "outputs": [],
   "source": [
    "import cv2\n",
    "import numpy as np\n",
    "import os\n",
    "from skimage.morphology import convex_hull_image\n",
    "import matplotlib.pyplot as plt\n",
    "from skimage import data, img_as_float\n",
    "from PIL import Image\n",
    "\n",
    "pic_target = \"result\"\n",
    "target_dir = os.listdir(\"./\")\n",
    "if pic_target not in target_dir:\n",
    "    os.mkdir(\"{}/\" .format(pic_target))\n",
    "else:\n",
    "    pass\n",
    "\n",
    "cut_width = 28\n",
    "cut_length = 28\n",
    "\n",
    "picture = cv2.imread(\"example.png\", 0)\n",
    "(width, length) = picture.shape\n",
    "\n",
    "pic = np.zeros((cut_width, cut_length))\n",
    "\n",
    "num_width = int(width / cut_width)\n",
    "num_length = int(length / cut_length)\n",
    "\n",
    "for i in range(0, num_width):\n",
    "    for j in range(0, num_length):\n",
    "        pic = picture[i*cut_width : (i+1)*cut_width, j*cut_length : (j+1)*cut_length]\n",
    "        pic = pic.astype(np.bool8)\n",
    "        chull = convex_hull_image(pic)\n",
    "        #chull_diff = img_as_float(chull.copy())\n",
    "        result_path = pic_target + \"/{}_{}.png\".format(i+1, j+1)\n",
    "        chull = chull.astype(np.uint8)\n",
    "        j = Image.fromarray(chull*255)\n",
    "        j.save(result_path)\n",
    "\n",
    "print(\"done!!\")"
   ]
  },
  {
   "cell_type": "code",
   "execution_count": null,
   "metadata": {},
   "outputs": [],
   "source": [
    "import os\n",
    "pic_path = \"result/\"\n",
    "\n",
    "pic_target = \"conv_hull\"\n",
    "target_dir = os.listdir(\"./\")\n",
    "if pic_target not in target_dir:\n",
    "    os.mkdir(\"{}/\" .format(pic_target))\n",
    "else:\n",
    "    pass\n",
    "\n",
    "\n",
    "num_width_list = []\n",
    "num_length_list = []\n",
    "\n",
    "picture_names = os.listdir(pic_path)\n",
    "\n",
    "img_1_1 = cv2.imread(pic_path + \"1_1.png\", 0)\n",
    "(width, length) = img_1_1.shape\n",
    "\n",
    "for picture_name in picture_names:\n",
    "    num_width_list.append(int(picture_name.split(\"_\")[0]))\n",
    "    num_length_list.append(int(picture_name.split(\"_\")[0]))\n",
    "\n",
    "num_width = max(num_width_list)\n",
    "num_length = max(num_length_list)\n",
    "\n",
    "splicing_pic = np.zeros((num_width*width, num_length*length))\n",
    "\n",
    "for i in range(1, num_width+1):\n",
    "    for j in range(1, num_length+1):\n",
    "        img_part = cv2.imread(pic_path + \"{}_{}.png\".format(i, j), 0)\n",
    "        splicing_pic[width*(i-1) : width*i, length*(j-1) : length*j] = img_part\n",
    "\n",
    "cv2.imwrite(pic_target + \"/result.png\", splicing_pic)\n",
    "print(\"done!\")"
   ]
  },
  {
   "cell_type": "markdown",
   "metadata": {},
   "source": []
  },
  {
   "cell_type": "code",
   "execution_count": null,
   "metadata": {},
   "outputs": [],
   "source": [
    "import numpy as np\n",
    "import cv2\n",
    "import matplotlib.pyplot as plt\n",
    "\n",
    "# find coutours with CHAIN_APPROX_TC89_L1\n",
    "\n",
    "img = cv2.imread(\"conv_hull/result.png\")\n",
    "\n",
    "imggray = cv2.cvtColor(img, cv2.COLOR_RGB2GRAY)\n",
    "\n",
    "ret, thresh = cv2.threshold(imggray, 127, 255, 0)\n",
    "\n",
    "contours, hierachy = cv2.findContours(thresh, cv2.RETR_TREE, cv2.CHAIN_APPROX_TC89_KCOS) #CHAIN_APPROX_TC89_L1, CHAIN_APPROX_SIMPLE\n",
    "mask = cv2.drawContours(img, contours, -1, (0, 255, 0), 1)\n",
    "plt.imshow(mask, cmap = 'gray', interpolation = 'bicubic')\n",
    "plt.xticks([]), plt.yticks([])  # to hide tick values on X and Y axis\n",
    "plt.show()\n",
    "#cv2.namedWindow(\"drawContours\", 0)\n",
    "#cv2.imshow(\"drawContours\", mask)\n",
    "#cv2.waitKey()\n",
    "\n",
    "print(len(contours))\n",
    "print([len(a) for a in contours])"
   ]
  },
  {
   "attachments": {},
   "cell_type": "markdown",
   "metadata": {},
   "source": [
    "## Contour coordinates"
   ]
  },
  {
   "cell_type": "code",
   "execution_count": null,
   "metadata": {},
   "outputs": [],
   "source": [
    "# calculate area and perimeter of coutours\n",
    "i = 1\n",
    "for cont in contours:\n",
    "\n",
    "    area = cv2.contourArea(cont)\n",
    "    perimeter = cv2.arcLength(cont, True)\n",
    "\n",
    "    contour_coords = np.squeeze(cont)\n",
    "    contour_coords = contour_coords * 2.7 # scale pixel to mm\n",
    "    print(np.shape(contour_coords)) # ?? in clockwise order ??\n",
    "\n",
    "    txt_out_file = \"conv_hull/txt_out_file{}.csv\".format(i)\n",
    "    np.savetxt(txt_out_file, contour_coords)\n",
    "    i += 1"
   ]
  }
 ],
 "metadata": {
  "kernelspec": {
   "display_name": "venv",
   "language": "python",
   "name": "python3"
  },
  "language_info": {
   "codemirror_mode": {
    "name": "ipython",
    "version": 3
   },
   "file_extension": ".py",
   "mimetype": "text/x-python",
   "name": "python",
   "nbconvert_exporter": "python",
   "pygments_lexer": "ipython3",
   "version": "3.10.6"
  },
  "orig_nbformat": 4,
  "vscode": {
   "interpreter": {
    "hash": "f4f13723ae706f6cf38c8e909b310927f2dc79f543da5c853a1f419c8fb5116f"
   }
  }
 },
 "nbformat": 4,
 "nbformat_minor": 2
}
