{
 "cells": [
  {
   "attachments": {},
   "cell_type": "markdown",
   "metadata": {},
   "source": [
    "# Modeling damages as IFC entities"
   ]
  },
  {
   "cell_type": "code",
   "execution_count": null,
   "metadata": {},
   "outputs": [],
   "source": [
    "import ifcopenshell\n",
    "from ifcopenshell.api import run\n",
    "\n",
    "import numpy as np\n",
    "\n",
    "from glob import glob"
   ]
  },
  {
   "attachments": {},
   "cell_type": "markdown",
   "metadata": {},
   "source": [
    "## Create the model context, site, building and storey\n",
    "\n",
    "An IFC file consist of an IfcProject, IfcSite, IfcBuilding, IfcStorey. All other entities are organised in this hierarchy e.g., a wall is assigned to a storey and thus also to a building, site and project. IfcOpenShell API provides convenient functions to generate all these entities and assign the relationships. "
   ]
  },
  {
   "cell_type": "code",
   "execution_count": null,
   "metadata": {},
   "outputs": [],
   "source": [
    "# Create a blank model\n",
    "model = ifcopenshell.file()\n",
    "\n",
    "# All projects must have one IFC Project element\n",
    "project = run(\"root.create_entity\", model, ifc_class=\"IfcProject\", name=\"My Project\")\n",
    "\n",
    "# Geometry is optional in IFC, but because we want to use geometry in this example, let's define units\n",
    "# Assigning without arguments defaults to metric units\n",
    "run(\"unit.assign_unit\", model)\n",
    "\n",
    "# Let's create a modeling geometry context, so we can store 3D geometry (note: IFC supports 2D too!)\n",
    "context = run(\"context.add_context\", model, context_type=\"Model\")\n",
    "\n",
    "# In particular, in this example we want to store the 3D \"body\" geometry of objects, i.e. the body shape\n",
    "body = run(\"context.add_context\", model, context_type=\"Model\",\n",
    "    context_identifier=\"Body\", target_view=\"MODEL_VIEW\", parent=context)\n",
    "\n",
    "# Create a site, building, and storey. Many hierarchies are possible.\n",
    "site = run(\"root.create_entity\", model, ifc_class=\"IfcSite\", name=\"My Site\")\n",
    "building = run(\"root.create_entity\", model, ifc_class=\"IfcBuilding\", name=\"Building A\")\n",
    "storey = run(\"root.create_entity\", model, ifc_class=\"IfcBuildingStorey\", name=\"Ground Floor\")\n",
    "\n",
    "# Since the site is our top level location, assign it to the project\n",
    "# Then place our building on the site, and our storey in the building\n",
    "run(\"aggregate.assign_object\", model, relating_object=project, product=site)\n",
    "run(\"aggregate.assign_object\", model, relating_object=site, product=building)\n",
    "run(\"aggregate.assign_object\", model, relating_object=building, product=storey)\n"
   ]
  },
  {
   "attachments": {},
   "cell_type": "markdown",
   "metadata": {},
   "source": [
    "## Create a simple wall\n",
    "\n",
    "For demonstration purposes we create a simple wall."
   ]
  },
  {
   "cell_type": "code",
   "execution_count": null,
   "metadata": {},
   "outputs": [],
   "source": [
    "# Let's create a new wall\n",
    "wall = run(\"root.create_entity\", model, ifc_class=\"IfcWall\")\n",
    "# Add a new wall-like body geometry, 5 meters long, 3 meters high, and 200mm thick\n",
    "representation = run(\"geometry.add_wall_representation\", model, context=body, length=5, height=3, thickness=0.2)\n",
    "# Assign our new body geometry back to our wall\n",
    "run(\"geometry.assign_representation\", model, product=wall, representation=representation)\n",
    "\n",
    "# Place our wall in the ground floor\n",
    "run(\"spatial.assign_container\", model, relating_structure=storey, product=wall)"
   ]
  },
  {
   "attachments": {},
   "cell_type": "markdown",
   "metadata": {},
   "source": [
    "## Parse damage coordinates\n",
    "\n",
    "From the image processing the coordinates of a damage will be handed over as a text file. The coordinates are mirrored, so that the origin is in the upper left corner, x positive to the right and y positive down. Coordinates from the image are in 2D, so an empty column with value 0 is added for the y coordinates. The y-coordinates from the image are the z-coordinates in the IFC model. "
   ]
  },
  {
   "cell_type": "code",
   "execution_count": null,
   "metadata": {},
   "outputs": [],
   "source": [
    "# read from text file\n",
    "coord_files = glob(\"img/*.csv\")\n",
    "print(coord_files)\n",
    "\n",
    "coord_array_list = []\n",
    "for f in coord_files:\n",
    "    coord_array = np.genfromtxt(f, dtype=float, delimiter=\" \")\n",
    "    coord_array_3d = np.insert(coord_array, 1, 0., axis=1)\n",
    "\n",
    "    x_coords = np.vstack((coord_array_3d[:,0]))\n",
    "    y_coords = np.vstack((coord_array_3d[:,1]))\n",
    "    z_coords = np.vstack((coord_array_3d[:,2] * -1))\n",
    "\n",
    "    coords_mirrored = np.hstack((x_coords, y_coords, z_coords))\n",
    "\n",
    "    coord_array_list.append(coords_mirrored)\n",
    "\n",
    "print(coord_array_list)\n",
    "    "
   ]
  },
  {
   "attachments": {},
   "cell_type": "markdown",
   "metadata": {},
   "source": [
    "## Create damage object\n",
    "\n",
    "As no IFC class for damages exists, an IfcBuildingElementProxy is created using IfcOpenShell. The coordinates obtained above are used to create an IfcPolyLine as Extrusion Area for an IfcExtrudedAreaSolid.  "
   ]
  },
  {
   "cell_type": "code",
   "execution_count": null,
   "metadata": {},
   "outputs": [],
   "source": [
    "for coord_array in coord_array_list:\n",
    "\n",
    "    damage = run(\"root.create_entity\", model, ifc_class = \"IfcBuildingElementProxy\")\n",
    "    # add damage representation\n",
    "    # check https://blenderbim.org/docs-python/autoapi/ifcopenshell/api/geometry/index.html\n",
    "\n",
    "    point = model.createIfcCartesianPoint((1000., -50., 2000.))\n",
    "    dir1 = model.createIfcDirection((0., 0., 1.))\n",
    "    dir2 = model.createIfcDirection((1., 0., 0.))\n",
    "    damage_placement = model.createIfcAxis2placement3d(point, dir1, dir2)\n",
    "\n",
    "\n",
    "    ifcpts = []\n",
    "    for pt in coord_array:\n",
    "        pt_list = list(pt)\n",
    "        pt_tuple = tuple(float(val) for val in pt_list)\n",
    "        print(type(pt_tuple[2]))\n",
    "        ifc_point = model.createIfcCartesianPoint(pt_tuple)\n",
    "        ifcpts.append(ifc_point)\n",
    "\n",
    "    polyline = model.createIfcPolyLine(ifcpts)\n",
    "\n",
    "    ifcclosedprofile = model.createIfcArbitraryClosedProfileDef(\"AREA\", None, polyline)\n",
    "    ifcdir = model.createIfcDirection((0.0, 1.0, 0.))\n",
    "    solid = model.createIfcExtrudedAreaSolid(ifcclosedprofile, damage_placement, ifcdir, 100.)\n",
    "\n",
    "    damage_representation = model.createIfcShapeRepresentation(context, \"Body\", \"SweptSolid\", [solid])\n",
    "    # product_shape = model.createIfcProductDefinitionShape(None, None, [damage_representation])\n",
    "\n",
    "    # Assign our new body geometry back to our wall\n",
    "    run(\"geometry.assign_representation\", model, product=damage, representation=damage_representation)\n",
    "\n",
    "    # Place our wall in the ground floor\n",
    "    run(\"spatial.assign_container\", model, relating_structure=storey, product=damage)\n",
    "\n",
    "\n",
    "\n",
    "\n"
   ]
  },
  {
   "attachments": {},
   "cell_type": "markdown",
   "metadata": {},
   "source": [
    "## Write to file"
   ]
  },
  {
   "cell_type": "code",
   "execution_count": null,
   "metadata": {},
   "outputs": [],
   "source": [
    "# Write out to a file\n",
    "model.write(\"model.ifc\")"
   ]
  }
 ],
 "metadata": {
  "kernelspec": {
   "display_name": "venv",
   "language": "python",
   "name": "python3"
  },
  "language_info": {
   "codemirror_mode": {
    "name": "ipython",
    "version": 3
   },
   "file_extension": ".py",
   "mimetype": "text/x-python",
   "name": "python",
   "nbconvert_exporter": "python",
   "pygments_lexer": "ipython3",
   "version": "3.10.6 (main, Nov 14 2022, 16:10:14) [GCC 11.3.0]"
  },
  "orig_nbformat": 4,
  "vscode": {
   "interpreter": {
    "hash": "f4f13723ae706f6cf38c8e909b310927f2dc79f543da5c853a1f419c8fb5116f"
   }
  }
 },
 "nbformat": 4,
 "nbformat_minor": 2
}
